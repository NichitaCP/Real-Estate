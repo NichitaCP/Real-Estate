{
 "cells": [
  {
   "cell_type": "code",
   "execution_count": 8,
   "metadata": {
    "collapsed": true
   },
   "outputs": [],
   "source": [
    "from sklearn.preprocessing import StandardScaler\n",
    "from sklearn.pipeline import Pipeline\n",
    "from sklearn.model_selection import GridSearchCV\n",
    "from sklearn.model_selection import KFold, cross_val_score\n",
    "from sklearn.model_selection import train_test_split\n",
    "from sklearn.linear_model import LinearRegression, Ridge, Lasso\n",
    "from sklearn.metrics import mean_squared_error\n",
    "import pandas as pd\n",
    "import matplotlib.pyplot as plt\n",
    "import seaborn as sns"
   ]
  },
  {
   "cell_type": "code",
   "execution_count": 9,
   "outputs": [
    {
     "data": {
      "text/plain": "   ville  arr  n_pieces  n_chambres  surface_m2      prix  prix_m2\n0  Paris   17       3.0         1.0       51.84  535000.0  10320.0\n1  Paris   15       3.0         2.0       40.77  470000.0  11528.0\n2  Paris   13       2.0         1.0       39.00  385000.0   9871.0\n3  Paris   13       2.0         1.0       36.03  383000.0  10630.0\n4  Paris   10       2.0         1.0       40.70  399000.0   9803.0",
      "text/html": "<div>\n<style scoped>\n    .dataframe tbody tr th:only-of-type {\n        vertical-align: middle;\n    }\n\n    .dataframe tbody tr th {\n        vertical-align: top;\n    }\n\n    .dataframe thead th {\n        text-align: right;\n    }\n</style>\n<table border=\"1\" class=\"dataframe\">\n  <thead>\n    <tr style=\"text-align: right;\">\n      <th></th>\n      <th>ville</th>\n      <th>arr</th>\n      <th>n_pieces</th>\n      <th>n_chambres</th>\n      <th>surface_m2</th>\n      <th>prix</th>\n      <th>prix_m2</th>\n    </tr>\n  </thead>\n  <tbody>\n    <tr>\n      <th>0</th>\n      <td>Paris</td>\n      <td>17</td>\n      <td>3.0</td>\n      <td>1.0</td>\n      <td>51.84</td>\n      <td>535000.0</td>\n      <td>10320.0</td>\n    </tr>\n    <tr>\n      <th>1</th>\n      <td>Paris</td>\n      <td>15</td>\n      <td>3.0</td>\n      <td>2.0</td>\n      <td>40.77</td>\n      <td>470000.0</td>\n      <td>11528.0</td>\n    </tr>\n    <tr>\n      <th>2</th>\n      <td>Paris</td>\n      <td>13</td>\n      <td>2.0</td>\n      <td>1.0</td>\n      <td>39.00</td>\n      <td>385000.0</td>\n      <td>9871.0</td>\n    </tr>\n    <tr>\n      <th>3</th>\n      <td>Paris</td>\n      <td>13</td>\n      <td>2.0</td>\n      <td>1.0</td>\n      <td>36.03</td>\n      <td>383000.0</td>\n      <td>10630.0</td>\n    </tr>\n    <tr>\n      <th>4</th>\n      <td>Paris</td>\n      <td>10</td>\n      <td>2.0</td>\n      <td>1.0</td>\n      <td>40.70</td>\n      <td>399000.0</td>\n      <td>9803.0</td>\n    </tr>\n  </tbody>\n</table>\n</div>"
     },
     "execution_count": 9,
     "metadata": {},
     "output_type": "execute_result"
    }
   ],
   "source": [
    "df = pd.read_csv(\"real_estate_PML.csv\")\n",
    "df = df.drop(\"type_l\", axis = 1)\n",
    "df = df[df['ville']=='Paris'].copy(deep=True)\n",
    "df.head()"
   ],
   "metadata": {
    "collapsed": false
   }
  },
  {
   "cell_type": "code",
   "execution_count": 10,
   "outputs": [],
   "source": [
    "features = [col for col in df.columns if col not in ['ville','prix', 'prix_m2']]\n",
    "y = df['prix']\n",
    "X = df[features].copy()\n",
    "X.arr = X.arr.astype('float')\n",
    "X_train, X_test, y_train, y_test = train_test_split(X.values, y.values, random_state=10, test_size=0.2)"
   ],
   "metadata": {
    "collapsed": false
   }
  },
  {
   "cell_type": "markdown",
   "source": [],
   "metadata": {
    "collapsed": false
   }
  },
  {
   "cell_type": "code",
   "execution_count": 11,
   "outputs": [
    {
     "data": {
      "text/plain": "<Figure size 640x480 with 1 Axes>",
      "image/png": "[encoded data removed]"
     },
     "metadata": {},
     "output_type": "display_data"
    }
   ],
   "source": [
    "models = {\"Linear Regression\": LinearRegression(), \"Ridge\": Ridge(alpha = 0.1), \"Lasso\": Lasso()}\n",
    "results = []\n",
    "for model in models.values():\n",
    "    kf = KFold(n_splits=6, random_state = 4, shuffle=True)\n",
    "    cv_scores = cross_val_score(model, X_train, y_train, cv=kf)\n",
    "    results.append(cv_scores)\n",
    "\n",
    "# Visualizing the best model\n",
    "sns.set_style(\"dark\")\n",
    "plt.boxplot(results, labels=models.keys())\n",
    "plt.show()"
   ],
   "metadata": {
    "collapsed": false
   }
  },
  {
   "cell_type": "code",
   "execution_count": 12,
   "outputs": [
    {
     "name": "stdout",
     "output_type": "stream",
     "text": [
      "Best Hyperparameters: {'Ridge__alpha': 10, 'Ridge__solver': 'lsqr'}\n",
      "Best Score: 0.7698530679663748\n",
      "RMSE: 451659.5056677824\n"
     ]
    }
   ],
   "source": [
    "import seaborn as sns\n",
    "# Hyperparameter tuning, CV and Scaling\n",
    "kf = KFold(n_splits=6, random_state=5, shuffle=True)\n",
    "pipe = Pipeline([\n",
    "    ('scaler', StandardScaler()),\n",
    "    ('Ridge', Ridge())\n",
    "])\n",
    "alphas = [1e-6, 1e-5, 1e-4, 1e-3, 1e-2, 0.1, 1, 10, 50, 100]\n",
    "solvers = ['svd', 'lsqr', 'cholesky']\n",
    "parameters = [\n",
    "    {'Ridge__alpha': alphas, 'Ridge__solver': solvers}\n",
    "              ]\n",
    "grid_search = GridSearchCV(pipe, param_grid=parameters, cv=kf)\n",
    "grid_search.fit(X_train, y_train)\n",
    "\n",
    "print(f\"Best Hyperparameters: {grid_search.best_params_}\")\n",
    "print(f\"Best Score: {grid_search.best_score_}\")\n",
    "\n",
    "best_model = grid_search.best_estimator_\n",
    "y_pred = best_model.predict(X_test)\n",
    "rmse = mean_squared_error(y_test, y_pred, squared=False)\n",
    "print(f\"RMSE: {rmse}\")"
   ],
   "metadata": {
    "collapsed": false
   }
  },
  {
   "cell_type": "code",
   "execution_count": 13,
   "outputs": [],
   "source": [
    "df.head()\n",
    "df = df.drop(\"prix_m2\", axis=1)"
   ],
   "metadata": {
    "collapsed": false
   }
  }
 ],
 "metadata": {
  "kernelspec": {
   "display_name": "Python 3",
   "language": "python",
   "name": "python3"
  },
  "language_info": {
   "codemirror_mode": {
    "name": "ipython",
    "version": 2
   },
   "file_extension": ".py",
   "mimetype": "text/x-python",
   "name": "python",
   "nbconvert_exporter": "python",
   "pygments_lexer": "ipython2",
   "version": "2.7.6"
  }
 },
 "nbformat": 4,
 "nbformat_minor": 0
}
