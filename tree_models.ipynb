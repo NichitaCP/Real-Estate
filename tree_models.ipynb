{
 "cells": [
  {
   "cell_type": "code",
   "execution_count": 1,
   "metadata": {
    "collapsed": true
   },
   "outputs": [],
   "source": [
    "import pandas as pd\n",
    "from sklearn.model_selection import train_test_split, RandomizedSearchCV, cross_val_score\n",
    "from sklearn.metrics import mean_squared_error\n",
    "from sklearn.tree import DecisionTreeRegressor\n",
    "from sklearn.ensemble import VotingRegressor, BaggingRegressor, AdaBoostRegressor, RandomForestRegressor, GradientBoostingRegressor\n",
    "from sklearn.neighbors import KNeighborsRegressor\n",
    "import matplotlib.pyplot as plt\n",
    "import matplotlib.style as style\n",
    "import numpy as np"
   ]
  },
  {
   "cell_type": "code",
   "execution_count": 56,
   "outputs": [
    {
     "data": {
      "text/plain": "    arr  n_pieces  n_chambres  surface_m2      prix  prix_m2  ville_Lyon   \n0  17.0       3.0         1.0       51.84  535000.0  10320.0         0.0  \\\n1  15.0       3.0         2.0       40.77  470000.0  11528.0         0.0   \n2  13.0       2.0         1.0       39.00  385000.0   9871.0         0.0   \n3  13.0       2.0         1.0       36.03  383000.0  10630.0         0.0   \n4  10.0       2.0         1.0       40.70  399000.0   9803.0         0.0   \n\n   ville_Marseille  ville_Paris  \n0              0.0          1.0  \n1              0.0          1.0  \n2              0.0          1.0  \n3              0.0          1.0  \n4              0.0          1.0  ",
      "text/html": "<div>\n<style scoped>\n    .dataframe tbody tr th:only-of-type {\n        vertical-align: middle;\n    }\n\n    .dataframe tbody tr th {\n        vertical-align: top;\n    }\n\n    .dataframe thead th {\n        text-align: right;\n    }\n</style>\n<table border=\"1\" class=\"dataframe\">\n  <thead>\n    <tr style=\"text-align: right;\">\n      <th></th>\n      <th>arr</th>\n      <th>n_pieces</th>\n      <th>n_chambres</th>\n      <th>surface_m2</th>\n      <th>prix</th>\n      <th>prix_m2</th>\n      <th>ville_Lyon</th>\n      <th>ville_Marseille</th>\n      <th>ville_Paris</th>\n    </tr>\n  </thead>\n  <tbody>\n    <tr>\n      <th>0</th>\n      <td>17.0</td>\n      <td>3.0</td>\n      <td>1.0</td>\n      <td>51.84</td>\n      <td>535000.0</td>\n      <td>10320.0</td>\n      <td>0.0</td>\n      <td>0.0</td>\n      <td>1.0</td>\n    </tr>\n    <tr>\n      <th>1</th>\n      <td>15.0</td>\n      <td>3.0</td>\n      <td>2.0</td>\n      <td>40.77</td>\n      <td>470000.0</td>\n      <td>11528.0</td>\n      <td>0.0</td>\n      <td>0.0</td>\n      <td>1.0</td>\n    </tr>\n    <tr>\n      <th>2</th>\n      <td>13.0</td>\n      <td>2.0</td>\n      <td>1.0</td>\n      <td>39.00</td>\n      <td>385000.0</td>\n      <td>9871.0</td>\n      <td>0.0</td>\n      <td>0.0</td>\n      <td>1.0</td>\n    </tr>\n    <tr>\n      <th>3</th>\n      <td>13.0</td>\n      <td>2.0</td>\n      <td>1.0</td>\n      <td>36.03</td>\n      <td>383000.0</td>\n      <td>10630.0</td>\n      <td>0.0</td>\n      <td>0.0</td>\n      <td>1.0</td>\n    </tr>\n    <tr>\n      <th>4</th>\n      <td>10.0</td>\n      <td>2.0</td>\n      <td>1.0</td>\n      <td>40.70</td>\n      <td>399000.0</td>\n      <td>9803.0</td>\n      <td>0.0</td>\n      <td>0.0</td>\n      <td>1.0</td>\n    </tr>\n  </tbody>\n</table>\n</div>"
     },
     "execution_count": 56,
     "metadata": {},
     "output_type": "execute_result"
    }
   ],
   "source": [
    "df = pd.read_csv(\"real_estate_PML.csv\")\n",
    "df = df.drop(\"type_l\", axis=1)\n",
    "df_dummies = pd.get_dummies(df, dtype=float)\n",
    "df_dummies.arr = df_dummies.arr.astype('float')\n",
    "df_dummies.head()"
   ],
   "metadata": {
    "collapsed": false
   }
  },
  {
   "cell_type": "code",
   "execution_count": 70,
   "outputs": [
    {
     "name": "stdout",
     "output_type": "stream",
     "text": [
      "Voting Regressor RMSE: 395371.845316604\n"
     ]
    }
   ],
   "source": [
    "# Decision tree and KNR with Cross validation adn VotingRegressor\n",
    "seed = 1\n",
    "cols = df_dummies.columns\n",
    "features = [col for col in cols if col not in ['prix_m2', 'prix']]\n",
    "X = df_dummies[features]\n",
    "y = df_dummies['prix']\n",
    "X_train, X_test, y_train, y_test = train_test_split(X, y, random_state=1, test_size=0.3)\n",
    "knr = KNeighborsRegressor(n_neighbors=5, weights='distance', n_jobs=-1)\n",
    "dt = DecisionTreeRegressor(max_depth=5, min_samples_leaf=0.025, random_state=seed)\n",
    "classifiers = [('Decision Tree Regressor', dt),\n",
    "         ('KNeighbors Regressor', knr)]\n",
    "vtr = VotingRegressor(classifiers, n_jobs=-1)\n",
    "vtr.fit(X_train, y_train)\n",
    "cv_score = cross_val_score(vtr, X_train, y_train, cv=5, scoring='neg_mean_squared_error')\n",
    "rmse = (-cv_score.mean())**0.5\n",
    "print(f\"Voting Regressor RMSE: {rmse}\")"
   ],
   "metadata": {
    "collapsed": false
   }
  },
  {
   "cell_type": "code",
   "execution_count": 95,
   "outputs": [
    {
     "name": "stdout",
     "output_type": "stream",
     "text": [
      "Bagging Regressor RMSE: 430496.3732085637 \n",
      "OOB RMSE: 412830.7628838014\n"
     ]
    }
   ],
   "source": [
    "# Bagging with OOB\n",
    "dtr = DecisionTreeRegressor(max_depth=4, min_samples_leaf=0.025, random_state=seed)\n",
    "bgr = BaggingRegressor(estimator=knr, n_estimators=400, oob_score=True, n_jobs=-1)\n",
    "bgr.fit(X_train, y_train)\n",
    "bgr_scores = cross_val_score(bgr, X_train, y_train, cv=5, scoring='neg_mean_squared_error')\n",
    "bgr_rmse = (-bgr_scores.mean())**0.5\n",
    "oob_rmse = mean_squared_error(y_train, bgr.oob_prediction_, squared=False)\n",
    "print(f\"Bagging Regressor RMSE: {bgr_rmse} \\nOOB RMSE: {oob_rmse}\")"
   ],
   "metadata": {
    "collapsed": false
   }
  },
  {
   "cell_type": "code",
   "execution_count": 80,
   "outputs": [
    {
     "name": "stdout",
     "output_type": "stream",
     "text": [
      "Random Forest RMSE: 433864.78280847316\n"
     ]
    }
   ],
   "source": [
    "# Random forest Regressor\n",
    "rf = RandomForestRegressor(n_estimators=500, min_samples_leaf=0.025, random_state=seed, n_jobs=-1)\n",
    "rf.fit(X_train, y_train)\n",
    "rf_cv_score = cross_val_score(rf, X_train, y_train, cv=5, scoring='neg_mean_squared_error')\n",
    "rf_rmse = (-rf_cv_score.mean())**0.5\n",
    "print(f\"Random Forest RMSE: {rf_rmse}\")"
   ],
   "metadata": {
    "collapsed": false
   }
  },
  {
   "cell_type": "code",
   "execution_count": 92,
   "outputs": [
    {
     "data": {
      "text/plain": "<Figure size 640x480 with 1 Axes>",
      "image/png": "[encoded data removed]"
     },
     "metadata": {},
     "output_type": "display_data"
    }
   ],
   "source": [
    "# RF feature importance\n",
    "style.use('ggplot')\n",
    "feat_imp = pd.Series(rf.feature_importances_, index = X.columns)\n",
    "feat_imp_sorted = feat_imp.sort_values()\n",
    "feat_imp_sorted.plot(kind='barh')\n",
    "plt.show()"
   ],
   "metadata": {
    "collapsed": false
   }
  },
  {
   "cell_type": "code",
   "execution_count": 98,
   "outputs": [
    {
     "data": {
      "text/plain": "[('DecisionTreeRegressor(max_depth=5, min_samples_leaf=0.025, random_state=1)',\n  473864.7372093636),\n ('RandomForestRegressor(min_samples_leaf=0.025, n_estimators=500, n_jobs=-1,\\n                      random_state=1)',\n  381129.0820066382)]"
     },
     "execution_count": 98,
     "metadata": {},
     "output_type": "execute_result"
    }
   ],
   "source": [
    "# Adaptive Boosting\n",
    "base_estimators = [dt, rf]\n",
    "rmse_scores = []\n",
    "for estimator in base_estimators:\n",
    "    adb_reg = AdaBoostRegressor(estimator=estimator, n_estimators=100)\n",
    "    adb_reg.fit(X_train, y_train)\n",
    "    ada_cv_scores = cross_val_score(adb_reg, X_train, y_train, cv=5, scoring='neg_mean_squared_error')\n",
    "    rmse_scores.append((str(estimator), (-ada_cv_scores.mean())**0.5))"
   ],
   "metadata": {
    "collapsed": false
   }
  },
  {
   "cell_type": "code",
   "execution_count": 99,
   "outputs": [
    {
     "name": "stdout",
     "output_type": "stream",
     "text": [
      "Random Forest Regressor Ada Boosting RMSE: 473864.7372093636\n"
     ]
    }
   ],
   "source": [
    "print(f\"Random Forest Regressor Ada Boosting RMSE: {rmse_scores[1][1]}\")\n",
    "print(f\"Decision Tree Regressor Ada Boosting RMSE: {rmse_scores[0][1]}\")"
   ],
   "metadata": {
    "collapsed": false
   }
  },
  {
   "cell_type": "code",
   "execution_count": 112,
   "outputs": [
    {
     "name": "stdout",
     "output_type": "stream",
     "text": [
      "Gradient Boosting Regressor RMSE: 314142.2411987001\n"
     ]
    }
   ],
   "source": [
    "# Gradient Boosting\n",
    "gbt = GradientBoostingRegressor(n_estimators=400, max_depth=4, random_state=seed)\n",
    "gbt.fit(X_train, y_train)\n",
    "gbt_cv_scores = cross_val_score(gbt, X_train, y_train, cv=5, scoring='neg_mean_squared_error')\n",
    "print(f\"Gradient Boosting Regressor RMSE: {(-gbt_cv_scores.mean())**0.5}\")"
   ],
   "metadata": {
    "collapsed": false
   }
  },
  {
   "cell_type": "code",
   "execution_count": 114,
   "outputs": [
    {
     "name": "stdout",
     "output_type": "stream",
     "text": [
      "Gradient Boosting Regressor RMSE: 309286.0486643204\n"
     ]
    }
   ],
   "source": [
    "# Stochastic Gradient Boosting\n",
    "sgbt = GradientBoostingRegressor(max_depth=4, subsample=0.8, max_features=0.25, n_estimators=400, random_state=seed)\n",
    "sgbt.fit(X_train, y_train)\n",
    "sgbt_cv_scores = cross_val_score(sgbt, X_train, y_train, cv=5, scoring='neg_mean_squared_error')\n",
    "print(f\"Stochastic Gradient Boosting Regressor RMSE: {(-sgbt_cv_scores.mean())**0.5}\")"
   ],
   "metadata": {
    "collapsed": false
   }
  },
  {
   "cell_type": "code",
   "execution_count": 117,
   "outputs": [
    {
     "data": {
      "text/plain": "{'alpha': 0.9,\n 'ccp_alpha': 0.0,\n 'criterion': 'friedman_mse',\n 'init': None,\n 'learning_rate': 0.1,\n 'loss': 'squared_error',\n 'max_depth': 4,\n 'max_features': None,\n 'max_leaf_nodes': None,\n 'min_impurity_decrease': 0.0,\n 'min_samples_leaf': 1,\n 'min_samples_split': 2,\n 'min_weight_fraction_leaf': 0.0,\n 'n_estimators': 400,\n 'n_iter_no_change': None,\n 'random_state': 1,\n 'subsample': 1.0,\n 'tol': 0.0001,\n 'validation_fraction': 0.1,\n 'verbose': 0,\n 'warm_start': False}"
     },
     "execution_count": 117,
     "metadata": {},
     "output_type": "execute_result"
    }
   ],
   "source": [
    "# Inspect hyperparams\n",
    "gbt.get_params()"
   ],
   "metadata": {
    "collapsed": false
   }
  },
  {
   "cell_type": "code",
   "execution_count": 131,
   "outputs": [
    {
     "name": "stdout",
     "output_type": "stream",
     "text": [
      "Fitting 3 folds for each of 250 candidates, totalling 750 fits\n"
     ]
    },
    {
     "name": "stderr",
     "output_type": "stream",
     "text": [
      "C:\\NKT\\IA\\lib\\site-packages\\sklearn\\model_selection\\_validation.py:378: FitFailedWarning: \n",
      "99 fits failed out of a total of 750.\n",
      "The score on these train-test partitions for these parameters will be set to nan.\n",
      "If these failures are not expected, you can try to debug them by setting error_score='raise'.\n",
      "\n",
      "Below are more details about the failures:\n",
      "--------------------------------------------------------------------------------\n",
      "99 fits failed with the following error:\n",
      "Traceback (most recent call last):\n",
      "  File \"C:\\NKT\\IA\\lib\\site-packages\\sklearn\\model_selection\\_validation.py\", line 686, in _fit_and_score\n",
      "    estimator.fit(X_train, y_train, **fit_params)\n",
      "  File \"C:\\NKT\\IA\\lib\\site-packages\\sklearn\\ensemble\\_gb.py\", line 420, in fit\n",
      "    self._validate_params()\n",
      "  File \"C:\\NKT\\IA\\lib\\site-packages\\sklearn\\base.py\", line 600, in _validate_params\n",
      "    validate_parameter_constraints(\n",
      "  File \"C:\\NKT\\IA\\lib\\site-packages\\sklearn\\utils\\_param_validation.py\", line 97, in validate_parameter_constraints\n",
      "    raise InvalidParameterError(\n",
      "sklearn.utils._param_validation.InvalidParameterError: The 'alpha' parameter of GradientBoostingRegressor must be a float in the range (0.0, 1.0). Got 0.0 instead.\n",
      "\n",
      "  warnings.warn(some_fits_failed_message, FitFailedWarning)\n",
      "C:\\NKT\\IA\\lib\\site-packages\\sklearn\\model_selection\\_search.py:952: UserWarning: One or more of the test scores are non-finite: [-1.67577471e+11 -3.80403500e+11 -1.08238503e+11 -1.56725664e+11\n",
      " -1.09364631e+11 -1.05010712e+11 -2.79893351e+11 -1.09440060e+11\n",
      " -5.39153961e+11 -1.10224503e+11             nan -4.39255559e+11\n",
      " -1.97213106e+11 -1.05514261e+11 -2.29385251e+11 -1.54052302e+11\n",
      " -1.85515475e+11 -3.76577348e+11 -1.11020059e+11 -1.33315688e+11\n",
      " -1.11497397e+11             nan             nan -1.47647356e+11\n",
      " -2.03458978e+11 -1.03044976e+11 -1.12103896e+11             nan\n",
      " -1.14247603e+11 -1.59605248e+11 -3.74402544e+11 -1.07602493e+11\n",
      " -1.73029325e+11 -9.75588915e+10 -9.79530294e+10 -1.09127303e+11\n",
      "             nan -1.30044398e+11 -1.04608212e+11 -1.64379581e+11\n",
      " -1.70104660e+11 -1.04354795e+11 -3.32243330e+11 -1.03576104e+11\n",
      " -2.03118569e+11 -2.10063967e+11 -1.00449419e+11 -1.87932666e+11\n",
      " -1.19988205e+11 -1.11143227e+11 -1.03538669e+11 -1.00584828e+11\n",
      " -1.56708532e+11 -1.13453117e+11 -5.78324081e+11 -2.56148516e+11\n",
      " -1.17724743e+11 -2.03141401e+11 -1.94192297e+11 -2.04694515e+11\n",
      " -1.44102886e+11 -1.10536075e+11 -1.00501473e+11 -2.01357672e+11\n",
      "             nan             nan             nan -1.06725533e+11\n",
      " -1.01188941e+11             nan -9.87652722e+10 -1.33009418e+11\n",
      "             nan -9.71807059e+10 -3.82460390e+11             nan\n",
      " -3.04562692e+11 -1.07867281e+11 -1.03339911e+11 -2.49902281e+11\n",
      " -3.23622851e+11 -2.32284310e+11 -1.01185268e+11 -1.48018968e+11\n",
      " -1.04635222e+11 -1.92772961e+11 -1.73933318e+11 -2.70550896e+11\n",
      " -2.08588360e+11 -1.07123777e+11 -2.63899409e+11 -1.70338001e+11\n",
      " -2.73880146e+11 -2.96996793e+11 -1.16682748e+11 -1.19456375e+11\n",
      "             nan -1.29282757e+11 -1.03714371e+11 -2.48062003e+11\n",
      " -9.68047868e+10 -1.17664174e+11 -1.06926711e+11 -1.15078077e+11\n",
      " -1.13734081e+11             nan -1.07338578e+11 -1.02202826e+11\n",
      " -1.05488441e+11 -4.97032714e+11 -1.15224739e+11 -1.09246739e+11\n",
      " -1.13577291e+11 -4.85358644e+11             nan -3.96763025e+11\n",
      " -9.91714333e+10 -1.84568338e+11 -2.61723784e+11 -2.14933772e+11\n",
      " -3.63621713e+11 -2.53699986e+11 -4.61388402e+11 -1.08193108e+11\n",
      " -1.53234974e+11 -1.78083696e+11 -1.09649872e+11 -1.12025612e+11\n",
      " -3.15505715e+11             nan -1.12607102e+11 -1.42110457e+11\n",
      " -1.05757044e+11             nan -1.46833585e+11 -1.14488759e+11\n",
      " -1.21614698e+11 -1.83861283e+11 -1.53751943e+11 -1.07590403e+11\n",
      "             nan -9.84996925e+10 -3.35249078e+11 -2.03146503e+11\n",
      " -1.16601124e+11 -1.11751044e+11 -1.46813580e+11 -1.16636670e+11\n",
      " -1.85997494e+11 -1.84991854e+11             nan -1.15635012e+11\n",
      " -1.03224311e+11             nan -2.67805232e+11 -2.13569274e+11\n",
      " -1.10141069e+11 -1.18350867e+11 -1.05331932e+11 -1.27825890e+11\n",
      " -1.28961484e+11 -2.09016557e+11 -1.24047022e+11 -2.10852645e+11\n",
      " -1.10070262e+11 -1.28912837e+11 -1.13108680e+11 -1.51288232e+11\n",
      " -2.69806559e+11 -2.77822950e+11             nan -1.56935655e+11\n",
      " -3.84831029e+11 -1.36599399e+11 -2.11223735e+11             nan\n",
      " -6.33083121e+11 -1.09462242e+11 -1.10874793e+11 -1.29339066e+11\n",
      " -1.31428230e+11 -9.81947166e+10 -1.94027513e+11 -2.31753531e+11\n",
      " -1.28099867e+11             nan -1.16067208e+11             nan\n",
      " -1.00532210e+11 -2.12863447e+11 -4.40301207e+11 -1.06599765e+11\n",
      " -3.70557477e+11 -1.47708049e+11 -1.86923072e+11             nan\n",
      " -3.67201135e+11 -1.61379211e+11 -1.02917025e+11 -1.90956784e+11\n",
      " -1.56048912e+11             nan -5.09696342e+11 -1.57003533e+11\n",
      " -2.44047509e+11 -9.81509180e+10 -9.98399641e+10 -1.02545905e+11\n",
      " -1.11837274e+11 -1.03076127e+11             nan             nan\n",
      "             nan -1.14123054e+11 -1.06432701e+11             nan\n",
      " -1.97526822e+11 -1.31797088e+11             nan -1.11227035e+11\n",
      " -1.27037864e+11 -2.47248027e+11 -1.84389892e+11 -1.14150041e+11\n",
      " -2.65474464e+11 -2.26731420e+11 -1.05540366e+11 -1.02204352e+11\n",
      " -1.04306973e+11 -4.42641091e+11             nan -2.36126247e+11\n",
      " -1.29011498e+11 -2.27102571e+11 -1.04152589e+11 -1.08146591e+11\n",
      " -2.12672228e+11 -2.23126980e+11 -2.64673071e+11 -1.34153470e+11\n",
      " -1.06018660e+11 -1.11498480e+11 -1.60944838e+11             nan\n",
      "             nan -1.12739341e+11 -1.80662820e+11 -6.16888942e+11\n",
      " -1.02360900e+11 -1.65007672e+11]\n",
      "  warnings.warn(\n"
     ]
    }
   ],
   "source": [
    "params_gb = {'alpha':list(np.arange(0, 0.91, 0.15)),\n",
    "             'loss':['quantile','huber'],\n",
    "             'learning_rate':list(np.arange(0.01, 0.2, 0.05)),\n",
    "             'n_estimators':[200,300,400,500],\n",
    "             'subsample':[0.5, 0.75],\n",
    "             'max_depth':list(np.arange(1,7,1)),\n",
    "             'max_features':[0.2, 0.4, 0.6]}\n",
    "sbgt = GradientBoostingRegressor(random_state=seed)\n",
    "grid_sbgt = RandomizedSearchCV(estimator=sbgt, param_distributions=params_gb,\n",
    "                       cv=3, scoring='neg_mean_squared_error',\n",
    "                       verbose=1, n_jobs=-1, n_iter=250)\n",
    "grid_sbgt.fit(X_train, y_train)\n",
    "best_hyperparams = grid_sbgt.best_params_"
   ],
   "metadata": {
    "collapsed": false
   }
  },
  {
   "cell_type": "code",
   "execution_count": 124,
   "outputs": [
    {
     "data": {
      "text/plain": "{'subsample': 0.75,\n 'n_estimators': 300,\n 'max_features': 0.6,\n 'max_depth': 6,\n 'loss': 'quantile',\n 'learning_rate': 0.060000000000000005,\n 'alpha': 0.6}"
     },
     "execution_count": 124,
     "metadata": {},
     "output_type": "execute_result"
    }
   ],
   "source": [
    "best_hyperparams"
   ],
   "metadata": {
    "collapsed": false
   }
  },
  {
   "cell_type": "code",
   "execution_count": 137,
   "outputs": [
    {
     "name": "stdout",
     "output_type": "stream",
     "text": [
      "Tuned SGBT RMSE: 304574.68922704563\n"
     ]
    }
   ],
   "source": [
    "best_sbgt_model = grid_sbgt.best_estimator_\n",
    "bm_scores = cross_val_score(best_sbgt_model, X_train, y_train, cv=5, scoring='neg_mean_squared_error')\n",
    "print(f\"Tuned SGBT RMSE: {(-bm_scores.mean())**0.5}\")"
   ],
   "metadata": {
    "collapsed": false
   }
  },
  {
   "cell_type": "code",
   "execution_count": 127,
   "outputs": [
    {
     "data": {
      "text/plain": "{'bootstrap': True,\n 'ccp_alpha': 0.0,\n 'criterion': 'squared_error',\n 'max_depth': None,\n 'max_features': 1.0,\n 'max_leaf_nodes': None,\n 'max_samples': None,\n 'min_impurity_decrease': 0.0,\n 'min_samples_leaf': 0.025,\n 'min_samples_split': 2,\n 'min_weight_fraction_leaf': 0.0,\n 'n_estimators': 500,\n 'n_jobs': -1,\n 'oob_score': False,\n 'random_state': 1,\n 'verbose': 0,\n 'warm_start': False}"
     },
     "execution_count": 127,
     "metadata": {},
     "output_type": "execute_result"
    }
   ],
   "source": [
    "rf.get_params()"
   ],
   "metadata": {
    "collapsed": false
   }
  },
  {
   "cell_type": "code",
   "execution_count": 128,
   "outputs": [],
   "source": [
    "# One final hyper parameter tuning of Random Forest, followed by an Adaptive boosting\n",
    "rf_ = RandomForestRegressor(random_state=seed)\n",
    "param_rf = {'max_depth':list(np.arange(1,10,1)),\n",
    "            'n_estimators':list(np.arange(100, 700, 100)),\n",
    "            'min_samples_leaf':list(np.linspace(0.01, 0.5, num=10)),\n",
    "            'max_features':[0.2, 0.5, 0.75]}\n"
   ],
   "metadata": {
    "collapsed": false
   }
  },
  {
   "cell_type": "code",
   "execution_count": 129,
   "outputs": [
    {
     "name": "stdout",
     "output_type": "stream",
     "text": [
      "Fitting 3 folds for each of 250 candidates, totalling 750 fits\n"
     ]
    }
   ],
   "source": [
    "grid_rf = RandomizedSearchCV(estimator=rf_, param_distributions=param_rf,\n",
    "                       cv=3, scoring='neg_mean_squared_error',\n",
    "                       verbose=1, n_jobs=-1, n_iter=250)\n",
    "grid_rf.fit(X_train, y_train)\n",
    "best_hyperparams = grid_rf.best_params_"
   ],
   "metadata": {
    "collapsed": false
   }
  },
  {
   "cell_type": "code",
   "execution_count": 130,
   "outputs": [],
   "source": [
    "best_rf_model = grid_rf.best_estimator_"
   ],
   "metadata": {
    "collapsed": false
   }
  },
  {
   "cell_type": "code",
   "execution_count": 135,
   "outputs": [
    {
     "name": "stdout",
     "output_type": "stream",
     "text": [
      "Tuned RF + AdaBoosting RMSE: 327691.83740727935\n",
      "Tuned RF + AdaBoosting RMSE: 327055.61773161247\n"
     ]
    }
   ],
   "source": [
    "rf_tuned_ada = AdaBoostRegressor(estimator=best_rf_model, n_estimators=250)\n",
    "rf_tuned_ada.fit(X_train, y_train)\n",
    "rf_tuned_ada_cv_score = cross_val_score(rf_tuned_ada, X_train, y_train, cv=5, scoring='neg_mean_squared_error')\n",
    "rf_tuned_ada_rmse = np.sqrt(-rf_tuned_ada_cv_score.mean())\n",
    "print(f\"Tuned RF + AdaBoosting RMSE: {rf_tuned_ada_rmse}\")"
   ],
   "metadata": {
    "collapsed": false
   }
  },
  {
   "cell_type": "code",
   "execution_count": 141,
   "outputs": [
    {
     "name": "stdout",
     "output_type": "stream",
     "text": [
      "Random Forest Tuned + ADABOOST RMSE on test sample: 336845.45926761744, \n",
      "Stochastic Gradient Boosting on test sample RMSE: 288752.53859703895\n",
      "Voting Regressor RMSE on test sample: 344167.9437913944\n",
      "Simple Gradient Boosting RMSE on test sample: 282297.3359428547\n"
     ]
    }
   ],
   "source": [
    "# Finally let's test the RMSE on X_test\n",
    "gbt_y_pred = gbt.predict(X_test)\n",
    "rf_y_pred = rf_tuned_ada.predict(X_test)\n",
    "sbgt_y_pred = best_sbgt_model.predict(X_test)\n",
    "rf_tuned_test_rmse = mean_squared_error(y_test, rf_y_pred, squared=False)\n",
    "sbgt_test_rmse = mean_squared_error(y_test, sbgt_y_pred, squared=False)\n",
    "vtr_pred = vtr.predict(X_test)\n",
    "vtr_rmse = mean_squared_error(y_test, vtr_pred, squared=False)\n",
    "gbt_rmse = mean_squared_error(y_test, gbt_y_pred, squared=False)\n",
    "print(f\"Random Forest Tuned + ADABOOST RMSE on test sample: {rf_tuned_test_rmse}, \\nStochastic Gradient Boosting on test sample RMSE: {sbgt_test_rmse}\")\n",
    "print(f\"Voting Regressor RMSE on test sample: {vtr_rmse}\")\n",
    "print(f\"Simple Gradient Boosting RMSE on test sample: {gbt_rmse}\")"
   ],
   "metadata": {
    "collapsed": false
   }
  },
  {
   "cell_type": "code",
   "execution_count": null,
   "outputs": [],
   "source": [],
   "metadata": {
    "collapsed": false
   }
  }
 ],
 "metadata": {
  "kernelspec": {
   "display_name": "Python 3",
   "language": "python",
   "name": "python3"
  },
  "language_info": {
   "codemirror_mode": {
    "name": "ipython",
    "version": 2
   },
   "file_extension": ".py",
   "mimetype": "text/x-python",
   "name": "python",
   "nbconvert_exporter": "python",
   "pygments_lexer": "ipython2",
   "version": "2.7.6"
  }
 },
 "nbformat": 4,
 "nbformat_minor": 0
}
