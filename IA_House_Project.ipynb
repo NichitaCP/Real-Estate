{
 "cells": [
  {
   "cell_type": "code",
   "execution_count": 2,
   "metadata": {
    "collapsed": true
   },
   "outputs": [],
   "source": [
    "import os\n",
    "\n",
    "import pandas as pd\n",
    "import numpy as np\n",
    "import seaborn as sns\n",
    "import matplotlib.pyplot as plt"
   ]
  },
  {
   "cell_type": "code",
   "execution_count": 3,
   "outputs": [],
   "source": [
    "def string_replace(string, str_to_replace=None, replace_with=None) -> str:\n",
    "    \"\"\"\n",
    "    Replace the occurrences of a substring in a given string with a replacement string.\n",
    "\n",
    "    Args:\n",
    "        string (str): The input string to be processed.\n",
    "        str_to_replace (str): The substring to be replaced in the input string. If not provided, defaults to None.\n",
    "        replace_with (str): The replacement string that will be used to replace the occurrences of the substring. If not provided, defaults to None.\n",
    "\n",
    "    Returns:\n",
    "        str: The modified string after replacing the occurrences of the substring with the replacement string.\n",
    "\n",
    "    Example:\n",
    "    >>> string_replace(\"hello world\", \"o\", \"0\")\n",
    "    'hell0 w0rld'\n",
    "    >>> string_replace(\"foo bar baz\", \"bar\", \"qux\")\n",
    "    'foo qux baz'\n",
    "    \"\"\"\n",
    "    string = string.replace(str_to_replace, replace_with)\n",
    "    return string\n",
    "\n",
    "def read_write(file:str, list_to_replace=None, list_replace_with=None)-> None:\n",
    "    \"\"\"\n",
    "    Read a file, replace the specified substrings in its lines, and overwrite the original file.\n",
    "\n",
    "    Args:\n",
    "        file (str): The path to the file to be read and overwritten.\n",
    "        list_to_replace (list): A list of substrings to be replaced in each line of the file. If not provided, defaults to None.\n",
    "        list_replace_with (list): A list of replacement strings that will be used to replace the corresponding substrings in the file. If not provided, defaults to None.\n",
    "\n",
    "    Returns:\n",
    "        None: The function overwrites the original file and does not return a value.\n",
    "\n",
    "    Example:\n",
    "        Suppose the file \"example.txt\" contains the following lines:\n",
    "            The quick brown fox jumps over the lazy dog.\n",
    "            She sells seashells by the seashore.\n",
    "            Peter Piper picked a peck of pickled peppers.\n",
    "\n",
    "        >>> read_write(\"example.txt\", [\"e\", \"o\"], [\"3\", \"0\"])\n",
    "        # The lines in \"example.txt\" will be replaced as follows:\n",
    "        #   The quick br0wn f3x jumps 0v3r th3 lazy d0g.\n",
    "        #   Sh3 s3lls s3ash3lls by th3 s3ash0r3.\n",
    "        #   P3t3r Pip3r pick3d a p3ck of pickl3d p3pp3rs.\n",
    "    \"\"\"\n",
    "    with open(file, 'r') as f:\n",
    "        lines = f.readlines()\n",
    "    with open(file, 'w') as f:\n",
    "        for line in lines:\n",
    "            for tr, rw in zip(list_to_replace, list_replace_with):\n",
    "                line = string_replace(string=line, str_to_replace=tr, replace_with=rw)\n",
    "            f.write(line)\n",
    "\n",
    "\n",
    "def prop_printer(file:str, n_semicolons:int) -> None:\n",
    "    \"\"\"\n",
    "    Prints the proportion of lines in a file that contain a different number of semicolons than n_semicolons.\n",
    "\n",
    "    Args:\n",
    "    - file (str): The name of the file to be processed.\n",
    "    - n_semicolons (int): The number of semicolons to be searched for in each line.\n",
    "\n",
    "    Returns:\n",
    "    - None\n",
    "\n",
    "    Raises:\n",
    "    - FileNotFoundError: If the specified file is not found.\n",
    "    - TypeError: If the specified file is not a string or if n_semicolons is not an integer.\n",
    "\n",
    "    Example:\n",
    "    >>> prop_printer('my_file.txt', 2)\n",
    "    Proportion of flagged lines for my_file.txt: 33.33 %\n",
    "    \"\"\"\n",
    "    list_obj = []\n",
    "    with open(file, 'r') as f:\n",
    "        lines = f.readlines()\n",
    "    for line in lines:\n",
    "        if line.count(';')!=n_semicolons:\n",
    "            list_obj.append(line)\n",
    "    print(f\"Proportion of flagged lines for {file}: {len(list_obj)/len(lines)*100} %\")\n",
    "\n",
    "def val_inval_lists(file: str, n_semicolons: int) -> tuple[list[str], list[str]]:\n",
    "    \"\"\"\n",
    "    Separates the lines in a file into two lists based on the number of semicolons in each line.\n",
    "\n",
    "    Args:\n",
    "    - file (str): The name of the file to be processed.\n",
    "    - n_semicolons (int): The number of semicolons to be searched for in each line.\n",
    "\n",
    "    Returns:\n",
    "    - A tuple of two lists of strings. The first list contains the lines that have the specified number of semicolons,\n",
    "      while the second list contains the lines that do not have the specified number of semicolons.\n",
    "\n",
    "    Raises:\n",
    "    - FileNotFoundError: If the specified file is not found.\n",
    "    - TypeError: If the specified file is not a string or if n_semicolons is not an integer.\n",
    "\n",
    "    Example:\n",
    "    >>> valid_list, invalid_list = val_inval_lists('my_file.txt', 2)\n",
    "    >>> print(valid_list)\n",
    "    ['valid line 1;valid line 2;\\n', 'valid line 3;valid line 4;\\n']\n",
    "    >>> print(invalid_list)\n",
    "    ['invalid line 1;\\n', 'invalid line 2;\\n', 'invalid line 3;\\n']\n",
    "    \"\"\"\n",
    "    valid_list = []\n",
    "    invalid_list = []\n",
    "    with open(file, 'r') as f:\n",
    "        lines = f.readlines()\n",
    "    for line in lines:\n",
    "        if line.count(';')== n_semicolons:\n",
    "            valid_list.append(line)\n",
    "        else:\n",
    "            invalid_list.append(line)\n",
    "    return valid_list, invalid_list\n",
    "\n",
    "def drop_nonconform_lines(file, n_semicolons:int)->None:\n",
    "    \"\"\"\n",
    "    Drops lines from a file that do not have the specified number of semicolons.\n",
    "\n",
    "    Args:\n",
    "    - file (str): The name of the file to be processed.\n",
    "    - n_semicolons (int): The number of semicolons to be searched for in each line.\n",
    "\n",
    "    Returns:\n",
    "    - None\n",
    "\n",
    "    Raises:\n",
    "    - FileNotFoundError: If the specified file is not found.\n",
    "    - TypeError: If the specified file is not a string or if n_semicolons is not an integer.\n",
    "\n",
    "    Example:\n",
    "    >>> drop_nonconform_lines('my_file.txt', 2)\n",
    "    \"\"\"\n",
    "    with open(file, 'r') as f:\n",
    "        lines = f.readlines()\n",
    "    with open(file, 'w') as f:\n",
    "        for line in lines:\n",
    "            if line.count(';')==n_semicolons:\n",
    "                f.write(line)"
   ],
   "metadata": {
    "collapsed": false
   }
  },
  {
   "cell_type": "code",
   "execution_count": 4,
   "outputs": [
    {
     "name": "stdout",
     "output_type": "stream",
     "text": [
      "Proportion of flagged lines for annuaire_paris.txt: 0.0 %\n",
      "Proportion of flagged lines for annuaire_lyon.txt: 0.0 %\n",
      "Proportion of flagged lines for annuaire_marseille.txt: 0.0 %\n"
     ]
    }
   ],
   "source": [
    "chars_to_replace = ['ème', 'è', 'é', '€', 'm²', ' (75)', ' (69)', ' (13)', 'Terrain', 'terrain', 'er']\n",
    "replace_chars_with_paris = [';', 'e', 'e', 'eur', 'm2', '', '', '', ';']\n",
    "replace_chars_with = [';', 'e', 'e', 'eur', 'm2;', '', '', '', '','',';']\n",
    "\n",
    "paris = 'annuaire_paris.txt'\n",
    "lyon = 'annuaire_lyon.txt'\n",
    "marseille = 'annuaire_marseille.txt'\n",
    "\n",
    "read_write(paris, chars_to_replace, replace_chars_with_paris)\n",
    "read_write(lyon, chars_to_replace, replace_chars_with)\n",
    "read_write(marseille, chars_to_replace, replace_chars_with)\n",
    "\n",
    "prop_printer(paris, 2)\n",
    "prop_printer(lyon, 2)\n",
    "prop_printer(marseille, 2)"
   ],
   "metadata": {
    "collapsed": false
   }
  },
  {
   "cell_type": "code",
   "execution_count": 5,
   "outputs": [
    {
     "name": "stdout",
     "output_type": "stream",
     "text": [
      "The appartments that were flagged as invalid in Lyon file represent 0.0% of the dataset\n"
     ]
    }
   ],
   "source": [
    "lyon_val, lyon_inval = val_inval_lists(lyon, 2)\n",
    "lyon_appart_list = []\n",
    "for i,val in enumerate(lyon_inval):\n",
    "    if 'appartement' in val:\n",
    "        lyon_appart_list.append(val)\n",
    "print(f\"The appartments that were flagged as invalid in Lyon file represent \\\n",
    "{100*len(lyon_appart_list)/(len(lyon_val)+len(lyon_inval))}% of the dataset\")"
   ],
   "metadata": {
    "collapsed": false
   }
  },
  {
   "cell_type": "code",
   "execution_count": 6,
   "outputs": [
    {
     "name": "stdout",
     "output_type": "stream",
     "text": [
      "The appartments that were flagged as invalid in Marseille file represent 0.0% of the dataset\n"
     ]
    }
   ],
   "source": [
    "marseille_val, marseille_inval = val_inval_lists(marseille, 2)\n",
    "marseille_appart_list = []\n",
    "for i,val in enumerate(marseille_inval):\n",
    "    if 'appartement' in val:\n",
    "        marseille_appart_list.append(val)\n",
    "print(f\"The appartments that were flagged as invalid in Marseille file represent \\\n",
    "{100*len(marseille_appart_list)/(len(marseille_val)+len(marseille_inval))}% of the dataset\")"
   ],
   "metadata": {
    "collapsed": false
   }
  },
  {
   "cell_type": "code",
   "execution_count": 7,
   "outputs": [
    {
     "name": "stdout",
     "output_type": "stream",
     "text": [
      "Proportion of flagged lines for annuaire_paris.txt: 0.0 %\n",
      "Proportion of flagged lines for annuaire_lyon.txt: 0.0 %\n",
      "Proportion of flagged lines for annuaire_marseille.txt: 0.0 %\n"
     ]
    }
   ],
   "source": [
    "drop_nonconform_lines(paris, 2)\n",
    "drop_nonconform_lines(lyon, 2)\n",
    "drop_nonconform_lines(marseille, 2)\n",
    "prop_printer(paris, 2)\n",
    "prop_printer(lyon, 2)\n",
    "prop_printer(marseille, 2)"
   ],
   "metadata": {
    "collapsed": false
   }
  },
  {
   "cell_type": "code",
   "execution_count": 8,
   "outputs": [
    {
     "data": {
      "text/plain": "          type_logement                         surface         prix   \n0  appartement Paris 17    3 pieces  1 chambre  51.84m2  535 000 eur  \\\n1  appartement Paris 15   3 pieces  2 chambres  40.77m2  470 000 eur   \n2  appartement Paris 13       2 pieces  1 chambre  39m2  385 000 eur   \n3  appartement Paris 13    2 pieces  1 chambre  36.03m2  383 000 eur   \n4  appartement Paris 10     2 pieces  1 chambre  40.7m2  399 000 eur   \n\n        type_l  ville arr  \n0  appartement  Paris  17  \n1  appartement  Paris  15  \n2  appartement  Paris  13  \n3  appartement  Paris  13  \n4  appartement  Paris  10  ",
      "text/html": "<div>\n<style scoped>\n    .dataframe tbody tr th:only-of-type {\n        vertical-align: middle;\n    }\n\n    .dataframe tbody tr th {\n        vertical-align: top;\n    }\n\n    .dataframe thead th {\n        text-align: right;\n    }\n</style>\n<table border=\"1\" class=\"dataframe\">\n  <thead>\n    <tr style=\"text-align: right;\">\n      <th></th>\n      <th>type_logement</th>\n      <th>surface</th>\n      <th>prix</th>\n      <th>type_l</th>\n      <th>ville</th>\n      <th>arr</th>\n    </tr>\n  </thead>\n  <tbody>\n    <tr>\n      <th>0</th>\n      <td>appartement Paris 17</td>\n      <td>3 pieces  1 chambre  51.84m2</td>\n      <td>535 000 eur</td>\n      <td>appartement</td>\n      <td>Paris</td>\n      <td>17</td>\n    </tr>\n    <tr>\n      <th>1</th>\n      <td>appartement Paris 15</td>\n      <td>3 pieces  2 chambres  40.77m2</td>\n      <td>470 000 eur</td>\n      <td>appartement</td>\n      <td>Paris</td>\n      <td>15</td>\n    </tr>\n    <tr>\n      <th>2</th>\n      <td>appartement Paris 13</td>\n      <td>2 pieces  1 chambre  39m2</td>\n      <td>385 000 eur</td>\n      <td>appartement</td>\n      <td>Paris</td>\n      <td>13</td>\n    </tr>\n    <tr>\n      <th>3</th>\n      <td>appartement Paris 13</td>\n      <td>2 pieces  1 chambre  36.03m2</td>\n      <td>383 000 eur</td>\n      <td>appartement</td>\n      <td>Paris</td>\n      <td>13</td>\n    </tr>\n    <tr>\n      <th>4</th>\n      <td>appartement Paris 10</td>\n      <td>2 pieces  1 chambre  40.7m2</td>\n      <td>399 000 eur</td>\n      <td>appartement</td>\n      <td>Paris</td>\n      <td>10</td>\n    </tr>\n  </tbody>\n</table>\n</div>"
     },
     "execution_count": 8,
     "metadata": {},
     "output_type": "execute_result"
    }
   ],
   "source": [
    "df_paris = pd.read_csv(paris, encoding='latin-1', header = None, sep = ';')\n",
    "df_lyon = pd.read_csv(lyon, encoding='latin-1', header = None, sep = ';')\n",
    "df_marseille = pd.read_csv(marseille, encoding='latin-1', header = None, sep = ';')\n",
    "df_final = pd.concat([df_paris, df_marseille, df_lyon], ignore_index=True)\n",
    "df_final = df_final.rename(columns = {0:'type_logement', 1: 'surface', 2: 'prix'})\n",
    "app_mask = df_final['type_logement'].str.contains('appartement')\n",
    "df_app = df_final.copy(deep=True)\n",
    "df_final = df_final[app_mask]\n",
    "df_split = df_final.type_logement.str.split(' ', expand = True)\n",
    "df_split = df_split.rename(columns = {0: 'type_l', 1 : 'ville', 2: 'arr'})\n",
    "df_final = pd.concat([df_final, df_split], axis = 1)\n",
    "df = df_final.copy()\n",
    "df.head()"
   ],
   "metadata": {
    "collapsed": false
   }
  },
  {
   "cell_type": "code",
   "execution_count": 9,
   "outputs": [],
   "source": [
    "pattern_pieces = r'(\\d+)\\s*piece[s]?\\s*'\n",
    "pattern_ch = r'(\\d+)\\s*chambre[s]?\\s*'\n",
    "df['n_pieces'] = df['surface'].str.extract(pattern_pieces, expand = False).astype(float)\n",
    "df['n_pieces'] = df['n_pieces'].fillna(0)\n",
    "df['n_chambres'] = df['surface'].str.extract(pattern_ch, expand = False).astype(float)\n",
    "df['n_chambres'] = df.n_chambres.fillna(0)"
   ],
   "metadata": {
    "collapsed": false
   }
  },
  {
   "cell_type": "code",
   "execution_count": 10,
   "outputs": [
    {
     "data": {
      "text/plain": "          type_logement                         surface         prix   \n0  appartement Paris 17    3 pieces  1 chambre  51.84m2  535 000 eur  \\\n1  appartement Paris 15   3 pieces  2 chambres  40.77m2  470 000 eur   \n2  appartement Paris 13       2 pieces  1 chambre  39m2  385 000 eur   \n3  appartement Paris 13    2 pieces  1 chambre  36.03m2  383 000 eur   \n4  appartement Paris 10     2 pieces  1 chambre  40.7m2  399 000 eur   \n\n        type_l  ville arr  n_pieces  n_chambres  \n0  appartement  Paris  17       3.0         1.0  \n1  appartement  Paris  15       3.0         2.0  \n2  appartement  Paris  13       2.0         1.0  \n3  appartement  Paris  13       2.0         1.0  \n4  appartement  Paris  10       2.0         1.0  ",
      "text/html": "<div>\n<style scoped>\n    .dataframe tbody tr th:only-of-type {\n        vertical-align: middle;\n    }\n\n    .dataframe tbody tr th {\n        vertical-align: top;\n    }\n\n    .dataframe thead th {\n        text-align: right;\n    }\n</style>\n<table border=\"1\" class=\"dataframe\">\n  <thead>\n    <tr style=\"text-align: right;\">\n      <th></th>\n      <th>type_logement</th>\n      <th>surface</th>\n      <th>prix</th>\n      <th>type_l</th>\n      <th>ville</th>\n      <th>arr</th>\n      <th>n_pieces</th>\n      <th>n_chambres</th>\n    </tr>\n  </thead>\n  <tbody>\n    <tr>\n      <th>0</th>\n      <td>appartement Paris 17</td>\n      <td>3 pieces  1 chambre  51.84m2</td>\n      <td>535 000 eur</td>\n      <td>appartement</td>\n      <td>Paris</td>\n      <td>17</td>\n      <td>3.0</td>\n      <td>1.0</td>\n    </tr>\n    <tr>\n      <th>1</th>\n      <td>appartement Paris 15</td>\n      <td>3 pieces  2 chambres  40.77m2</td>\n      <td>470 000 eur</td>\n      <td>appartement</td>\n      <td>Paris</td>\n      <td>15</td>\n      <td>3.0</td>\n      <td>2.0</td>\n    </tr>\n    <tr>\n      <th>2</th>\n      <td>appartement Paris 13</td>\n      <td>2 pieces  1 chambre  39m2</td>\n      <td>385 000 eur</td>\n      <td>appartement</td>\n      <td>Paris</td>\n      <td>13</td>\n      <td>2.0</td>\n      <td>1.0</td>\n    </tr>\n    <tr>\n      <th>3</th>\n      <td>appartement Paris 13</td>\n      <td>2 pieces  1 chambre  36.03m2</td>\n      <td>383 000 eur</td>\n      <td>appartement</td>\n      <td>Paris</td>\n      <td>13</td>\n      <td>2.0</td>\n      <td>1.0</td>\n    </tr>\n    <tr>\n      <th>4</th>\n      <td>appartement Paris 10</td>\n      <td>2 pieces  1 chambre  40.7m2</td>\n      <td>399 000 eur</td>\n      <td>appartement</td>\n      <td>Paris</td>\n      <td>10</td>\n      <td>2.0</td>\n      <td>1.0</td>\n    </tr>\n  </tbody>\n</table>\n</div>"
     },
     "execution_count": 10,
     "metadata": {},
     "output_type": "execute_result"
    }
   ],
   "source": [
    "df.head()"
   ],
   "metadata": {
    "collapsed": false
   }
  },
  {
   "cell_type": "code",
   "execution_count": 11,
   "outputs": [
    {
     "data": {
      "text/plain": "n_chambres\n0.0     0.273784\n2.0     0.265980\n1.0     0.235265\n3.0     0.159057\n4.0     0.056450\n5.0     0.008135\n6.0     0.001162\n15.0    0.000166\nName: proportion, dtype: float64"
     },
     "execution_count": 11,
     "metadata": {},
     "output_type": "execute_result"
    }
   ],
   "source": [
    "df['n_chambres'].value_counts(dropna=False, normalize=True)"
   ],
   "metadata": {
    "collapsed": false
   }
  },
  {
   "cell_type": "code",
   "execution_count": 12,
   "outputs": [
    {
     "data": {
      "text/plain": "n_pieces\n3.0     0.300515\n2.0     0.231446\n4.0     0.205877\n1.0     0.116387\n5.0     0.100116\n6.0     0.025569\n7.0     0.009298\n8.0     0.005479\n0.0     0.003819\n10.0    0.000664\n9.0     0.000498\n11.0    0.000166\n25.0    0.000166\nName: proportion, dtype: float64"
     },
     "execution_count": 12,
     "metadata": {},
     "output_type": "execute_result"
    }
   ],
   "source": [
    "df['n_pieces'].value_counts(dropna=False, normalize=True)"
   ],
   "metadata": {
    "collapsed": false
   }
  },
  {
   "cell_type": "code",
   "execution_count": 13,
   "outputs": [
    {
     "data": {
      "text/plain": "             type_logement                           surface           prix   \n11    appartement Paris 14                          3 pieces        Prix NC  \\\n16    appartement Paris 14                          4 pieces        Prix NC   \n21    appartement Paris 14                          5 pieces        Prix NC   \n68    appartement Paris 17   3/4 pieces  2 chambres  75.24m2    670 000 eur   \n178   appartement Paris 15                          5 pieces        Prix NC   \n192   appartement Paris 16      2/3 pieces  2 chambres  54m2    715 000 eur   \n196   appartement Paris 16     3/4 pieces  2 chambres  102m2  1 235 000 eur   \n272   appartement Paris 15    2/3 pieces  1 chambre  48.36m2    610 000 eur   \n384   appartement Paris 15                          4 pieces        Prix NC   \n389   appartement Paris 15                          2 pieces        Prix NC   \n400   appartement Paris 15                          3 pieces        Prix NC   \n457   appartement Paris 16               2 pieces  1 chambre    515 000 eur   \n489   appartement Paris 12              5 pieces  4 chambres  1 095 000 eur   \n665   appartement Paris 10              3 pieces  2 chambres    920 000 eur   \n710   appartement Paris 18     2/3 pieces  1 chambre  55.3m2    625 000 eur   \n899   appartement Paris 12                          3 pieces    756 000 eur   \n1031   appartement Paris 7                          6 pieces        Prix NC   \n1034  appartement Paris 18       2/3 pieces  1 chambre  54m2    590 000 eur   \n1036   appartement Paris 7                          3 pieces        Prix NC   \n1041   appartement Paris 7                          4 pieces        Prix NC   \n1046   appartement Paris 7                          5 pieces        Prix NC   \n1129  appartement Paris 15                          4 pieces        Prix NC   \n1134  appartement Paris 15                          2 pieces        Prix NC   \n1139  appartement Paris 15                          3 pieces        Prix NC   \n1144  appartement Paris 15                           1 piece        Prix NC   \n1155  appartement Paris 13                           1 piece        Prix NC   \n1160  appartement Paris 13                          2 pieces        Prix NC   \n1165  appartement Paris 13                          4 pieces        Prix NC   \n1170  appartement Paris 13                          3 pieces        Prix NC   \n1175  appartement Paris 13                          5 pieces        Prix NC   \n1202  appartement Paris 15                          5 pieces        Prix NC   \n1213  appartement Paris 15                          4 pieces        Prix NC   \n1218  appartement Paris 15                          3 pieces        Prix NC   \n1223  appartement Paris 15                          5 pieces        Prix NC   \n1228  appartement Paris 15                          4 pieces        Prix NC   \n1233  appartement Paris 15                          3 pieces        Prix NC   \n1244  appartement Paris 15                          2 pieces        Prix NC   \n1249  appartement Paris 15                           1 piece        Prix NC   \n1254  appartement Paris 15                          3 pieces        Prix NC   \n1259  appartement Paris 15                          4 pieces        Prix NC   \n1263  appartement Paris 15                          5 pieces        Prix NC   \n1382   appartement Paris 2              4/5 pieces  100.22m2  1 240 000 eur   \n2180   appartement Paris 7      3/4 pieces  2 chambres  80m2  1 340 000 eur   \n2517  appartement Paris 16       2/3 pieces  1 chambre  68m2    985 000 eur   \n2526  appartement Paris 16      2/3 pieces  2 chambres  64m2    780 000 eur   \n2993  appartement Paris 15               3/4 pieces  76.59m2    714 000 eur   \n\n           type_l  ville arr  n_pieces  n_chambres  surface_m2  \n11    appartement  Paris  14       3.0         0.0         NaN  \n16    appartement  Paris  14       4.0         0.0         NaN  \n21    appartement  Paris  14       5.0         0.0         NaN  \n68    appartement  Paris  17       4.0         2.0         NaN  \n178   appartement  Paris  15       5.0         0.0         NaN  \n192   appartement  Paris  16       3.0         2.0         NaN  \n196   appartement  Paris  16       4.0         2.0         NaN  \n272   appartement  Paris  15       3.0         1.0         NaN  \n384   appartement  Paris  15       4.0         0.0         NaN  \n389   appartement  Paris  15       2.0         0.0         NaN  \n400   appartement  Paris  15       3.0         0.0         NaN  \n457   appartement  Paris  16       2.0         1.0         NaN  \n489   appartement  Paris  12       5.0         4.0         NaN  \n665   appartement  Paris  10       3.0         2.0         NaN  \n710   appartement  Paris  18       3.0         1.0         NaN  \n899   appartement  Paris  12       3.0         0.0         NaN  \n1031  appartement  Paris   7       6.0         0.0         NaN  \n1034  appartement  Paris  18       3.0         1.0         NaN  \n1036  appartement  Paris   7       3.0         0.0         NaN  \n1041  appartement  Paris   7       4.0         0.0         NaN  \n1046  appartement  Paris   7       5.0         0.0         NaN  \n1129  appartement  Paris  15       4.0         0.0         NaN  \n1134  appartement  Paris  15       2.0         0.0         NaN  \n1139  appartement  Paris  15       3.0         0.0         NaN  \n1144  appartement  Paris  15       1.0         0.0         NaN  \n1155  appartement  Paris  13       1.0         0.0         NaN  \n1160  appartement  Paris  13       2.0         0.0         NaN  \n1165  appartement  Paris  13       4.0         0.0         NaN  \n1170  appartement  Paris  13       3.0         0.0         NaN  \n1175  appartement  Paris  13       5.0         0.0         NaN  \n1202  appartement  Paris  15       5.0         0.0         NaN  \n1213  appartement  Paris  15       4.0         0.0         NaN  \n1218  appartement  Paris  15       3.0         0.0         NaN  \n1223  appartement  Paris  15       5.0         0.0         NaN  \n1228  appartement  Paris  15       4.0         0.0         NaN  \n1233  appartement  Paris  15       3.0         0.0         NaN  \n1244  appartement  Paris  15       2.0         0.0         NaN  \n1249  appartement  Paris  15       1.0         0.0         NaN  \n1254  appartement  Paris  15       3.0         0.0         NaN  \n1259  appartement  Paris  15       4.0         0.0         NaN  \n1263  appartement  Paris  15       5.0         0.0         NaN  \n1382  appartement  Paris   2       5.0         0.0         NaN  \n2180  appartement  Paris   7       4.0         2.0         NaN  \n2517  appartement  Paris  16       3.0         1.0         NaN  \n2526  appartement  Paris  16       3.0         2.0         NaN  \n2993  appartement  Paris  15       4.0         0.0         NaN  ",
      "text/html": "<div>\n<style scoped>\n    .dataframe tbody tr th:only-of-type {\n        vertical-align: middle;\n    }\n\n    .dataframe tbody tr th {\n        vertical-align: top;\n    }\n\n    .dataframe thead th {\n        text-align: right;\n    }\n</style>\n<table border=\"1\" class=\"dataframe\">\n  <thead>\n    <tr style=\"text-align: right;\">\n      <th></th>\n      <th>type_logement</th>\n      <th>surface</th>\n      <th>prix</th>\n      <th>type_l</th>\n      <th>ville</th>\n      <th>arr</th>\n      <th>n_pieces</th>\n      <th>n_chambres</th>\n      <th>surface_m2</th>\n    </tr>\n  </thead>\n  <tbody>\n    <tr>\n      <th>11</th>\n      <td>appartement Paris 14</td>\n      <td>3 pieces</td>\n      <td>Prix NC</td>\n      <td>appartement</td>\n      <td>Paris</td>\n      <td>14</td>\n      <td>3.0</td>\n      <td>0.0</td>\n      <td>NaN</td>\n    </tr>\n    <tr>\n      <th>16</th>\n      <td>appartement Paris 14</td>\n      <td>4 pieces</td>\n      <td>Prix NC</td>\n      <td>appartement</td>\n      <td>Paris</td>\n      <td>14</td>\n      <td>4.0</td>\n      <td>0.0</td>\n      <td>NaN</td>\n    </tr>\n    <tr>\n      <th>21</th>\n      <td>appartement Paris 14</td>\n      <td>5 pieces</td>\n      <td>Prix NC</td>\n      <td>appartement</td>\n      <td>Paris</td>\n      <td>14</td>\n      <td>5.0</td>\n      <td>0.0</td>\n      <td>NaN</td>\n    </tr>\n    <tr>\n      <th>68</th>\n      <td>appartement Paris 17</td>\n      <td>3/4 pieces  2 chambres  75.24m2</td>\n      <td>670 000 eur</td>\n      <td>appartement</td>\n      <td>Paris</td>\n      <td>17</td>\n      <td>4.0</td>\n      <td>2.0</td>\n      <td>NaN</td>\n    </tr>\n    <tr>\n      <th>178</th>\n      <td>appartement Paris 15</td>\n      <td>5 pieces</td>\n      <td>Prix NC</td>\n      <td>appartement</td>\n      <td>Paris</td>\n      <td>15</td>\n      <td>5.0</td>\n      <td>0.0</td>\n      <td>NaN</td>\n    </tr>\n    <tr>\n      <th>192</th>\n      <td>appartement Paris 16</td>\n      <td>2/3 pieces  2 chambres  54m2</td>\n      <td>715 000 eur</td>\n      <td>appartement</td>\n      <td>Paris</td>\n      <td>16</td>\n      <td>3.0</td>\n      <td>2.0</td>\n      <td>NaN</td>\n    </tr>\n    <tr>\n      <th>196</th>\n      <td>appartement Paris 16</td>\n      <td>3/4 pieces  2 chambres  102m2</td>\n      <td>1 235 000 eur</td>\n      <td>appartement</td>\n      <td>Paris</td>\n      <td>16</td>\n      <td>4.0</td>\n      <td>2.0</td>\n      <td>NaN</td>\n    </tr>\n    <tr>\n      <th>272</th>\n      <td>appartement Paris 15</td>\n      <td>2/3 pieces  1 chambre  48.36m2</td>\n      <td>610 000 eur</td>\n      <td>appartement</td>\n      <td>Paris</td>\n      <td>15</td>\n      <td>3.0</td>\n      <td>1.0</td>\n      <td>NaN</td>\n    </tr>\n    <tr>\n      <th>384</th>\n      <td>appartement Paris 15</td>\n      <td>4 pieces</td>\n      <td>Prix NC</td>\n      <td>appartement</td>\n      <td>Paris</td>\n      <td>15</td>\n      <td>4.0</td>\n      <td>0.0</td>\n      <td>NaN</td>\n    </tr>\n    <tr>\n      <th>389</th>\n      <td>appartement Paris 15</td>\n      <td>2 pieces</td>\n      <td>Prix NC</td>\n      <td>appartement</td>\n      <td>Paris</td>\n      <td>15</td>\n      <td>2.0</td>\n      <td>0.0</td>\n      <td>NaN</td>\n    </tr>\n    <tr>\n      <th>400</th>\n      <td>appartement Paris 15</td>\n      <td>3 pieces</td>\n      <td>Prix NC</td>\n      <td>appartement</td>\n      <td>Paris</td>\n      <td>15</td>\n      <td>3.0</td>\n      <td>0.0</td>\n      <td>NaN</td>\n    </tr>\n    <tr>\n      <th>457</th>\n      <td>appartement Paris 16</td>\n      <td>2 pieces  1 chambre</td>\n      <td>515 000 eur</td>\n      <td>appartement</td>\n      <td>Paris</td>\n      <td>16</td>\n      <td>2.0</td>\n      <td>1.0</td>\n      <td>NaN</td>\n    </tr>\n    <tr>\n      <th>489</th>\n      <td>appartement Paris 12</td>\n      <td>5 pieces  4 chambres</td>\n      <td>1 095 000 eur</td>\n      <td>appartement</td>\n      <td>Paris</td>\n      <td>12</td>\n      <td>5.0</td>\n      <td>4.0</td>\n      <td>NaN</td>\n    </tr>\n    <tr>\n      <th>665</th>\n      <td>appartement Paris 10</td>\n      <td>3 pieces  2 chambres</td>\n      <td>920 000 eur</td>\n      <td>appartement</td>\n      <td>Paris</td>\n      <td>10</td>\n      <td>3.0</td>\n      <td>2.0</td>\n      <td>NaN</td>\n    </tr>\n    <tr>\n      <th>710</th>\n      <td>appartement Paris 18</td>\n      <td>2/3 pieces  1 chambre  55.3m2</td>\n      <td>625 000 eur</td>\n      <td>appartement</td>\n      <td>Paris</td>\n      <td>18</td>\n      <td>3.0</td>\n      <td>1.0</td>\n      <td>NaN</td>\n    </tr>\n    <tr>\n      <th>899</th>\n      <td>appartement Paris 12</td>\n      <td>3 pieces</td>\n      <td>756 000 eur</td>\n      <td>appartement</td>\n      <td>Paris</td>\n      <td>12</td>\n      <td>3.0</td>\n      <td>0.0</td>\n      <td>NaN</td>\n    </tr>\n    <tr>\n      <th>1031</th>\n      <td>appartement Paris 7</td>\n      <td>6 pieces</td>\n      <td>Prix NC</td>\n      <td>appartement</td>\n      <td>Paris</td>\n      <td>7</td>\n      <td>6.0</td>\n      <td>0.0</td>\n      <td>NaN</td>\n    </tr>\n    <tr>\n      <th>1034</th>\n      <td>appartement Paris 18</td>\n      <td>2/3 pieces  1 chambre  54m2</td>\n      <td>590 000 eur</td>\n      <td>appartement</td>\n      <td>Paris</td>\n      <td>18</td>\n      <td>3.0</td>\n      <td>1.0</td>\n      <td>NaN</td>\n    </tr>\n    <tr>\n      <th>1036</th>\n      <td>appartement Paris 7</td>\n      <td>3 pieces</td>\n      <td>Prix NC</td>\n      <td>appartement</td>\n      <td>Paris</td>\n      <td>7</td>\n      <td>3.0</td>\n      <td>0.0</td>\n      <td>NaN</td>\n    </tr>\n    <tr>\n      <th>1041</th>\n      <td>appartement Paris 7</td>\n      <td>4 pieces</td>\n      <td>Prix NC</td>\n      <td>appartement</td>\n      <td>Paris</td>\n      <td>7</td>\n      <td>4.0</td>\n      <td>0.0</td>\n      <td>NaN</td>\n    </tr>\n    <tr>\n      <th>1046</th>\n      <td>appartement Paris 7</td>\n      <td>5 pieces</td>\n      <td>Prix NC</td>\n      <td>appartement</td>\n      <td>Paris</td>\n      <td>7</td>\n      <td>5.0</td>\n      <td>0.0</td>\n      <td>NaN</td>\n    </tr>\n    <tr>\n      <th>1129</th>\n      <td>appartement Paris 15</td>\n      <td>4 pieces</td>\n      <td>Prix NC</td>\n      <td>appartement</td>\n      <td>Paris</td>\n      <td>15</td>\n      <td>4.0</td>\n      <td>0.0</td>\n      <td>NaN</td>\n    </tr>\n    <tr>\n      <th>1134</th>\n      <td>appartement Paris 15</td>\n      <td>2 pieces</td>\n      <td>Prix NC</td>\n      <td>appartement</td>\n      <td>Paris</td>\n      <td>15</td>\n      <td>2.0</td>\n      <td>0.0</td>\n      <td>NaN</td>\n    </tr>\n    <tr>\n      <th>1139</th>\n      <td>appartement Paris 15</td>\n      <td>3 pieces</td>\n      <td>Prix NC</td>\n      <td>appartement</td>\n      <td>Paris</td>\n      <td>15</td>\n      <td>3.0</td>\n      <td>0.0</td>\n      <td>NaN</td>\n    </tr>\n    <tr>\n      <th>1144</th>\n      <td>appartement Paris 15</td>\n      <td>1 piece</td>\n      <td>Prix NC</td>\n      <td>appartement</td>\n      <td>Paris</td>\n      <td>15</td>\n      <td>1.0</td>\n      <td>0.0</td>\n      <td>NaN</td>\n    </tr>\n    <tr>\n      <th>1155</th>\n      <td>appartement Paris 13</td>\n      <td>1 piece</td>\n      <td>Prix NC</td>\n      <td>appartement</td>\n      <td>Paris</td>\n      <td>13</td>\n      <td>1.0</td>\n      <td>0.0</td>\n      <td>NaN</td>\n    </tr>\n    <tr>\n      <th>1160</th>\n      <td>appartement Paris 13</td>\n      <td>2 pieces</td>\n      <td>Prix NC</td>\n      <td>appartement</td>\n      <td>Paris</td>\n      <td>13</td>\n      <td>2.0</td>\n      <td>0.0</td>\n      <td>NaN</td>\n    </tr>\n    <tr>\n      <th>1165</th>\n      <td>appartement Paris 13</td>\n      <td>4 pieces</td>\n      <td>Prix NC</td>\n      <td>appartement</td>\n      <td>Paris</td>\n      <td>13</td>\n      <td>4.0</td>\n      <td>0.0</td>\n      <td>NaN</td>\n    </tr>\n    <tr>\n      <th>1170</th>\n      <td>appartement Paris 13</td>\n      <td>3 pieces</td>\n      <td>Prix NC</td>\n      <td>appartement</td>\n      <td>Paris</td>\n      <td>13</td>\n      <td>3.0</td>\n      <td>0.0</td>\n      <td>NaN</td>\n    </tr>\n    <tr>\n      <th>1175</th>\n      <td>appartement Paris 13</td>\n      <td>5 pieces</td>\n      <td>Prix NC</td>\n      <td>appartement</td>\n      <td>Paris</td>\n      <td>13</td>\n      <td>5.0</td>\n      <td>0.0</td>\n      <td>NaN</td>\n    </tr>\n    <tr>\n      <th>1202</th>\n      <td>appartement Paris 15</td>\n      <td>5 pieces</td>\n      <td>Prix NC</td>\n      <td>appartement</td>\n      <td>Paris</td>\n      <td>15</td>\n      <td>5.0</td>\n      <td>0.0</td>\n      <td>NaN</td>\n    </tr>\n    <tr>\n      <th>1213</th>\n      <td>appartement Paris 15</td>\n      <td>4 pieces</td>\n      <td>Prix NC</td>\n      <td>appartement</td>\n      <td>Paris</td>\n      <td>15</td>\n      <td>4.0</td>\n      <td>0.0</td>\n      <td>NaN</td>\n    </tr>\n    <tr>\n      <th>1218</th>\n      <td>appartement Paris 15</td>\n      <td>3 pieces</td>\n      <td>Prix NC</td>\n      <td>appartement</td>\n      <td>Paris</td>\n      <td>15</td>\n      <td>3.0</td>\n      <td>0.0</td>\n      <td>NaN</td>\n    </tr>\n    <tr>\n      <th>1223</th>\n      <td>appartement Paris 15</td>\n      <td>5 pieces</td>\n      <td>Prix NC</td>\n      <td>appartement</td>\n      <td>Paris</td>\n      <td>15</td>\n      <td>5.0</td>\n      <td>0.0</td>\n      <td>NaN</td>\n    </tr>\n    <tr>\n      <th>1228</th>\n      <td>appartement Paris 15</td>\n      <td>4 pieces</td>\n      <td>Prix NC</td>\n      <td>appartement</td>\n      <td>Paris</td>\n      <td>15</td>\n      <td>4.0</td>\n      <td>0.0</td>\n      <td>NaN</td>\n    </tr>\n    <tr>\n      <th>1233</th>\n      <td>appartement Paris 15</td>\n      <td>3 pieces</td>\n      <td>Prix NC</td>\n      <td>appartement</td>\n      <td>Paris</td>\n      <td>15</td>\n      <td>3.0</td>\n      <td>0.0</td>\n      <td>NaN</td>\n    </tr>\n    <tr>\n      <th>1244</th>\n      <td>appartement Paris 15</td>\n      <td>2 pieces</td>\n      <td>Prix NC</td>\n      <td>appartement</td>\n      <td>Paris</td>\n      <td>15</td>\n      <td>2.0</td>\n      <td>0.0</td>\n      <td>NaN</td>\n    </tr>\n    <tr>\n      <th>1249</th>\n      <td>appartement Paris 15</td>\n      <td>1 piece</td>\n      <td>Prix NC</td>\n      <td>appartement</td>\n      <td>Paris</td>\n      <td>15</td>\n      <td>1.0</td>\n      <td>0.0</td>\n      <td>NaN</td>\n    </tr>\n    <tr>\n      <th>1254</th>\n      <td>appartement Paris 15</td>\n      <td>3 pieces</td>\n      <td>Prix NC</td>\n      <td>appartement</td>\n      <td>Paris</td>\n      <td>15</td>\n      <td>3.0</td>\n      <td>0.0</td>\n      <td>NaN</td>\n    </tr>\n    <tr>\n      <th>1259</th>\n      <td>appartement Paris 15</td>\n      <td>4 pieces</td>\n      <td>Prix NC</td>\n      <td>appartement</td>\n      <td>Paris</td>\n      <td>15</td>\n      <td>4.0</td>\n      <td>0.0</td>\n      <td>NaN</td>\n    </tr>\n    <tr>\n      <th>1263</th>\n      <td>appartement Paris 15</td>\n      <td>5 pieces</td>\n      <td>Prix NC</td>\n      <td>appartement</td>\n      <td>Paris</td>\n      <td>15</td>\n      <td>5.0</td>\n      <td>0.0</td>\n      <td>NaN</td>\n    </tr>\n    <tr>\n      <th>1382</th>\n      <td>appartement Paris 2</td>\n      <td>4/5 pieces  100.22m2</td>\n      <td>1 240 000 eur</td>\n      <td>appartement</td>\n      <td>Paris</td>\n      <td>2</td>\n      <td>5.0</td>\n      <td>0.0</td>\n      <td>NaN</td>\n    </tr>\n    <tr>\n      <th>2180</th>\n      <td>appartement Paris 7</td>\n      <td>3/4 pieces  2 chambres  80m2</td>\n      <td>1 340 000 eur</td>\n      <td>appartement</td>\n      <td>Paris</td>\n      <td>7</td>\n      <td>4.0</td>\n      <td>2.0</td>\n      <td>NaN</td>\n    </tr>\n    <tr>\n      <th>2517</th>\n      <td>appartement Paris 16</td>\n      <td>2/3 pieces  1 chambre  68m2</td>\n      <td>985 000 eur</td>\n      <td>appartement</td>\n      <td>Paris</td>\n      <td>16</td>\n      <td>3.0</td>\n      <td>1.0</td>\n      <td>NaN</td>\n    </tr>\n    <tr>\n      <th>2526</th>\n      <td>appartement Paris 16</td>\n      <td>2/3 pieces  2 chambres  64m2</td>\n      <td>780 000 eur</td>\n      <td>appartement</td>\n      <td>Paris</td>\n      <td>16</td>\n      <td>3.0</td>\n      <td>2.0</td>\n      <td>NaN</td>\n    </tr>\n    <tr>\n      <th>2993</th>\n      <td>appartement Paris 15</td>\n      <td>3/4 pieces  76.59m2</td>\n      <td>714 000 eur</td>\n      <td>appartement</td>\n      <td>Paris</td>\n      <td>15</td>\n      <td>4.0</td>\n      <td>0.0</td>\n      <td>NaN</td>\n    </tr>\n  </tbody>\n</table>\n</div>"
     },
     "execution_count": 13,
     "metadata": {},
     "output_type": "execute_result"
    }
   ],
   "source": [
    "df['surface_m2'] = df['surface'].str.replace(pattern_pieces, '', regex=True)\n",
    "df['surface_m2'] = df['surface_m2'].str.replace(pattern_ch, '',regex = True)\n",
    "df['surface_m2'] = df['surface_m2'].str.replace('m2','',regex=True).str.strip()\n",
    "df['surface_m2'] = pd.to_numeric(df['surface_m2'], errors = 'coerce')\n",
    "nn_rows = df[pd.to_numeric(df['surface_m2'], errors = 'coerce').isna()]\n",
    "nn_rows"
   ],
   "metadata": {
    "collapsed": false
   }
  },
  {
   "cell_type": "code",
   "execution_count": 14,
   "outputs": [],
   "source": [
    "df['prix'] = df['prix'].str.replace('eur| ', '', regex=True).str.strip()\n",
    "df['prix'] = pd.to_numeric(df['prix'], errors='coerce')\n",
    "df = df.dropna(subset=['prix', 'surface_m2'])\n",
    "cols = [\"type_l\", \"ville\", \"arr\", \"n_pieces\", \"n_chambres\", \"surface_m2\", \"prix\"]\n",
    "df_pml = df.loc[:, cols]\n",
    "df_pml['prix_m2'] = df['prix'] // df['surface_m2']\n",
    "df_pml['arr'] = df_pml.arr.astype('int')\n",
    "df_pml.groupby(['ville', 'arr'])[['prix_m2','surface_m2']].mean()\n",
    "q1_pmc, q2_pmc, q3_pmc, q4_pmc = df_pml['prix_m2'].quantile([0.25, 0.5, 0.75, 1])\n",
    "q1_prix, q2_prix, q3_prix, q4_prix = df_pml['prix'].quantile([0.25, 0.5, 0.75, 1])\n",
    "iqr_pmc = q3_pmc - q1_pmc\n",
    "iqr_prix = q3_prix - q1_prix\n",
    "lower_prix = q1_prix- 3*iqr_prix\n",
    "upper_prix = q3_prix + 3*iqr_prix\n",
    "lower_pmc = q1_pmc - 1.5*iqr_pmc\n",
    "upper_pmc = q3_pmc + 1.5*iqr_pmc\n",
    "df_pml[['prix_m2', 'surface_m2']].describe()\n",
    "df_pml['n_pieces'] = df_pml['n_pieces'].astype('category')"
   ],
   "metadata": {
    "collapsed": false
   }
  },
  {
   "cell_type": "code",
   "execution_count": 15,
   "outputs": [
    {
     "name": "stdout",
     "output_type": "stream",
     "text": [
      "<class 'pandas.core.frame.DataFrame'>\n",
      "Index: 5973 entries, 0 to 6486\n",
      "Data columns (total 8 columns):\n",
      " #   Column      Non-Null Count  Dtype   \n",
      "---  ------      --------------  -----   \n",
      " 0   type_l      5973 non-null   object  \n",
      " 1   ville       5973 non-null   object  \n",
      " 2   arr         5973 non-null   int32   \n",
      " 3   n_pieces    5973 non-null   category\n",
      " 4   n_chambres  5973 non-null   float64 \n",
      " 5   surface_m2  5973 non-null   float64 \n",
      " 6   prix        5973 non-null   float64 \n",
      " 7   prix_m2     5973 non-null   float64 \n",
      "dtypes: category(1), float64(4), int32(1), object(2)\n",
      "memory usage: 356.5+ KB\n"
     ]
    }
   ],
   "source": [
    "df_pml.info()"
   ],
   "metadata": {
    "collapsed": false
   }
  },
  {
   "cell_type": "code",
   "execution_count": 16,
   "outputs": [
    {
     "name": "stdout",
     "output_type": "stream",
     "text": [
      "<class 'pandas.core.frame.DataFrame'>\n",
      "RangeIndex: 5973 entries, 0 to 5972\n",
      "Data columns (total 9 columns):\n",
      " #   Column      Non-Null Count  Dtype   \n",
      "---  ------      --------------  -----   \n",
      " 0   index       5973 non-null   int64   \n",
      " 1   type_l      5973 non-null   object  \n",
      " 2   ville       5973 non-null   object  \n",
      " 3   arr         5973 non-null   int32   \n",
      " 4   n_pieces    5973 non-null   category\n",
      " 5   n_chambres  5973 non-null   float64 \n",
      " 6   surface_m2  5973 non-null   float64 \n",
      " 7   prix        5973 non-null   float64 \n",
      " 8   prix_m2     5973 non-null   float64 \n",
      "dtypes: category(1), float64(4), int32(1), int64(1), object(2)\n",
      "memory usage: 356.6+ KB\n"
     ]
    }
   ],
   "source": [
    "df_pml = df_pml.reset_index()\n",
    "df_pml.info()\n",
    "cwd = os.getcwd()\n",
    "filename = \"real_estate_merged.csv\"\n",
    "filepath = os.path.join(cwd, filename)\n",
    "df_pml.to_csv(filepath, index = False)"
   ],
   "metadata": {
    "collapsed": false
   }
  },
  {
   "cell_type": "code",
   "execution_count": 16,
   "outputs": [],
   "source": [],
   "metadata": {
    "collapsed": false
   }
  }
 ],
 "metadata": {
  "kernelspec": {
   "display_name": "Python 3",
   "language": "python",
   "name": "python3"
  },
  "language_info": {
   "codemirror_mode": {
    "name": "ipython",
    "version": 2
   },
   "file_extension": ".py",
   "mimetype": "text/x-python",
   "name": "python",
   "nbconvert_exporter": "python",
   "pygments_lexer": "ipython2",
   "version": "2.7.6"
  }
 },
 "nbformat": 4,
 "nbformat_minor": 0
}
